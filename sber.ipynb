{
 "cells": [
  {
   "cell_type": "markdown",
   "id": "d27a0f45",
   "metadata": {},
   "source": [
    "``` SQL\n",
    "ВОПРОС 1\n",
    "\n",
    "SELECT *\n",
    "FROM Клиенты\n",
    "WHERE Клиент_ФИО LIKE 'Иванов %' AND EXTRACT(YEAR FROM Клиент_рождение::date) >= 2000\n",
    "\n",
    "ВОПРОС 2\n",
    "\n",
    "WITH bad_client as (\n",
    "SELECT Клиент_ФИО\n",
    "FROM Счета\n",
    "WHERE Счет_Тип = 'Пенсионный'),\n",
    "\n",
    "filt_df as (\n",
    "SELECT *\n",
    "FROM Счета\n",
    "WHERE Клиент_ФИО NOT IN bad_client AND Счет_Тип = 'Сберегательный')\n",
    "\n",
    "SELECT DISTINCT Клиент_ФИО,\n",
    "       COUNT(Счет_Номер) OVER n_window AS cnt_acc,\n",
    "       MIN(Счет_ДатаОткрытия::date) OVER n_window AS min_dt,\n",
    "       MAX(Счет_ДатаОткрытия::date) OVER n_windoW AS min_dt\n",
    "FROM filt_df\n",
    "WINDOW (PARTITION BY Клиент_ФИО)\n",
    "\n",
    "ВОПРОС 3\n",
    "\n",
    "WITH df AS (\n",
    "SELECT Счет_Номер, Месяц_Номер, SUM(Пополнения_ИтогСумма) AS fin_sum\n",
    "FROM \"История Операций\"\n",
    "WHERE Месяц_Номер = 9 OR Месяц_Номер = 10\n",
    "GROUP BY Счет_Номер, Месяц_Номер),\n",
    "\n",
    "df1 as (\n",
    "SELECT Счет_Номер, fin_sum as sum_sep\n",
    "FROM df\n",
    "WHERE Месяц_Номер = 9),\n",
    "\n",
    "df2 as (\n",
    "SELECT Счет_Номер, fin_sum as sum_oct\n",
    "FROM df\n",
    "WHERE Месяц_Номер = 10),\n",
    "\n",
    "fin_df as ( \n",
    "SELECT df1.Счет_Номер, \n",
    "       ISNULL(sum_oct, 0) as sum_oct, \n",
    "       ISNULL(sum_sep, 0) as sum_sep, \n",
    "       sum_oct - sum_sep as diff\n",
    "FROM df1 OUTER JOIN df2 ON df1.Счет_Номер=df2.Счет_Номер)\n",
    "\n",
    "SELECT Счет_Номер, sum_oct, sum_sep\n",
    "FROM fin_df\n",
    "WHERE diff > 0\n",
    "```"
   ]
  },
  {
   "cell_type": "code",
   "execution_count": 1,
   "id": "924ef8c9",
   "metadata": {},
   "outputs": [],
   "source": [
    "text = 'Мама УТРом шить Маша шитье забыть ШитЬЕ прошИть ШапкА ниша положить выше Мама утроМ Шапка стужа МашА вышла вечЕР пуЩе СтуЖА ШашКа положитЬ луЖА нИша ШИть стуЖа вЫшЕ Ниша стУЖа УтроМ маша'"
   ]
  },
  {
   "cell_type": "code",
   "execution_count": 8,
   "id": "74c88682",
   "metadata": {},
   "outputs": [],
   "source": [
    "dict1 = []\n",
    "for w in text.split():\n",
    "    if ('Ш' in w) or ('ш' in w):\n",
    "        dict1.append(w.lower())\n",
    "    "
   ]
  },
  {
   "cell_type": "code",
   "execution_count": 10,
   "id": "c4db7ae3",
   "metadata": {},
   "outputs": [],
   "source": [
    "import pandas as pd"
   ]
  },
  {
   "cell_type": "code",
   "execution_count": 20,
   "id": "e040b9d3",
   "metadata": {},
   "outputs": [],
   "source": [
    "df = pd.DataFrame(dict1, columns=['word'])"
   ]
  },
  {
   "cell_type": "code",
   "execution_count": 21,
   "id": "67fd4e16",
   "metadata": {},
   "outputs": [],
   "source": [
    "df['count'] = 1"
   ]
  },
  {
   "cell_type": "code",
   "execution_count": 22,
   "id": "500a93b7",
   "metadata": {},
   "outputs": [],
   "source": [
    "df = df.groupby('word')['count'].sum().reset_index()"
   ]
  },
  {
   "cell_type": "code",
   "execution_count": 27,
   "id": "ce9c2e17",
   "metadata": {},
   "outputs": [
    {
     "data": {
      "text/html": [
       "<div>\n",
       "<style scoped>\n",
       "    .dataframe tbody tr th:only-of-type {\n",
       "        vertical-align: middle;\n",
       "    }\n",
       "\n",
       "    .dataframe tbody tr th {\n",
       "        vertical-align: top;\n",
       "    }\n",
       "\n",
       "    .dataframe thead th {\n",
       "        text-align: right;\n",
       "    }\n",
       "</style>\n",
       "<table border=\"1\" class=\"dataframe\">\n",
       "  <thead>\n",
       "    <tr style=\"text-align: right;\">\n",
       "      <th></th>\n",
       "      <th>word</th>\n",
       "      <th>count</th>\n",
       "    </tr>\n",
       "  </thead>\n",
       "  <tbody>\n",
       "    <tr>\n",
       "      <th>0</th>\n",
       "      <td>выше</td>\n",
       "      <td>2</td>\n",
       "    </tr>\n",
       "    <tr>\n",
       "      <th>2</th>\n",
       "      <td>маша</td>\n",
       "      <td>3</td>\n",
       "    </tr>\n",
       "    <tr>\n",
       "      <th>3</th>\n",
       "      <td>ниша</td>\n",
       "      <td>3</td>\n",
       "    </tr>\n",
       "    <tr>\n",
       "      <th>5</th>\n",
       "      <td>шапка</td>\n",
       "      <td>2</td>\n",
       "    </tr>\n",
       "    <tr>\n",
       "      <th>7</th>\n",
       "      <td>шить</td>\n",
       "      <td>2</td>\n",
       "    </tr>\n",
       "    <tr>\n",
       "      <th>8</th>\n",
       "      <td>шитье</td>\n",
       "      <td>2</td>\n",
       "    </tr>\n",
       "  </tbody>\n",
       "</table>\n",
       "</div>"
      ],
      "text/plain": [
       "    word  count\n",
       "0   выше      2\n",
       "2   маша      3\n",
       "3   ниша      3\n",
       "5  шапка      2\n",
       "7   шить      2\n",
       "8  шитье      2"
      ]
     },
     "execution_count": 27,
     "metadata": {},
     "output_type": "execute_result"
    }
   ],
   "source": [
    "df[df['count'] >= 2]"
   ]
  },
  {
   "cell_type": "code",
   "execution_count": null,
   "id": "cdd0fcca",
   "metadata": {},
   "outputs": [],
   "source": []
  }
 ],
 "metadata": {
  "kernelspec": {
   "display_name": "Python 3 (ipykernel)",
   "language": "python",
   "name": "python3"
  },
  "language_info": {
   "codemirror_mode": {
    "name": "ipython",
    "version": 3
   },
   "file_extension": ".py",
   "mimetype": "text/x-python",
   "name": "python",
   "nbconvert_exporter": "python",
   "pygments_lexer": "ipython3",
   "version": "3.9.7"
  },
  "toc": {
   "base_numbering": 1,
   "nav_menu": {},
   "number_sections": true,
   "sideBar": true,
   "skip_h1_title": false,
   "title_cell": "Table of Contents",
   "title_sidebar": "Contents",
   "toc_cell": false,
   "toc_position": {},
   "toc_section_display": true,
   "toc_window_display": false
  }
 },
 "nbformat": 4,
 "nbformat_minor": 5
}
